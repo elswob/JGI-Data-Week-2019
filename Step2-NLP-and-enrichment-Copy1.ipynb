{
 "cells": [
  {
   "cell_type": "markdown",
   "metadata": {},
   "source": [
    "# Ngrams\n",
    "\n",
    "Do example ngram"
   ]
  },
  {
   "cell_type": "code",
   "execution_count": 1,
   "metadata": {},
   "outputs": [
    {
     "name": "stdout",
     "output_type": "stream",
     "text": [
      "[{'t1': 'potential', 'count': 4}, {'t1': 'melodi', 'count': 4}, {'t1': 'literature', 'count': 3}, {'t1': 'identify', 'count': 3}, {'t1': 'application', 'count': 3}, {'t1': 'two', 'count': 3}, {'t1': 'study', 'count': 3}, {'t1': 'mechanism', 'count': 2}, {'t1': 'prioritize', 'count': 2}, {'t1': 'present', 'count': 2}]\n",
      "[{'t1': 'case', 't2': 'studies', 'count': 2}, {'t1': 'two', 't2': 'case', 'count': 2}, {'t1': 'analysis', 't2': 'ets-related', 'count': 1}, {'t1': 'analysis', 't2': 'methods', 'count': 1}, {'t1': 'analytical', 't2': 'evaluation', 'count': 1}, {'t1': 'application', 't2': 'data', 'count': 1}, {'t1': 'application', 't2': 'freely', 'count': 1}, {'t1': 'applications', 't2': 'melodi', 'count': 1}, {'t1': 'approaches', 't2': 'literature', 'count': 1}, {'t1': 'available', 't2': 'use', 'count': 1}]\n",
      "[{'t1': 'two', 't2': 'case', 't3': 'studies', 'count': 2}, {'t1': 'analysis', 't2': 'ets-related', 't3': 'gene', 'count': 1}, {'t1': 'analysis', 't2': 'methods', 't3': 'present', 'count': 1}, {'t1': 'analytical', 't2': 'evaluation', 't3': 'presents', 'count': 1}, {'t1': 'application', 't2': 'data', 't3': 'mining', 'count': 1}, {'t1': 'application', 't2': 'freely', 't3': 'available', 'count': 1}, {'t1': 'applications', 't2': 'melodi', 't3': 'including', 'count': 1}, {'t1': 'approaches', 't2': 'literature', 't3': 'offers', 'count': 1}, {'t1': 'available', 't2': 'use', 't3': 'www.melodi.biocompute.org.uk', 'count': 1}, {'t1': 'background', 't2': 'scientific', 't3': 'literature', 'count': 1}]\n"
     ]
    }
   ],
   "source": [
    "import config\n",
    "from scripts.common_functions import *\n",
    "\n",
    "example_text=\"\"\"\n",
    "BACKGROUND: The scientific literature contains a wealth of information from different fields on potential disease mechanisms. \n",
    "However, identifying and prioritizing mechanisms for further analytical evaluation presents enormous challenges in terms of the \n",
    "quantity and diversity of published research. The application of data mining approaches to the literature offers the potential to \n",
    "identify and prioritize mechanisms for more focused and detailed analysis.\n",
    "METHODS: Here we present MELODI, a literature mining platform that can identify mechanistic pathways between any two biomedical concepts.\n",
    "RESULTS: Two case studies demonstrate the potential uses of MELODI and how it can generate hypotheses for further investigation. \n",
    "First, an analysis of ETS-related gene ERG and prostate cancer derives the intermediate transcription factor SP1, recently confirmed \n",
    "to be physically interacting with ERG. Second, examining the relationship between a new potential risk factor for pancreatic cancer \n",
    "identifies possible mechanistic insights which can be studied in vitro.\n",
    "CONCLUSIONS:We have demonstrated the possible applications of MELODI, including two case studies. MELODI has been implemented as a \n",
    "Python/Django web application, and is freely available to use at [www.melodi.biocompute.org.uk].\n",
    "\"\"\"\n",
    "\n",
    "unigrams,bigrams,trigrams=get_ngrams(example_text)\n",
    "print(unigrams[0:10])\n",
    "print(bigrams[0:10])\n",
    "print(trigrams[0:10])\n",
    "\n"
   ]
  },
  {
   "cell_type": "markdown",
   "metadata": {},
   "source": [
    "Do for all publications indepedently"
   ]
  },
  {
   "cell_type": "code",
   "execution_count": 2,
   "metadata": {},
   "outputs": [],
   "source": [
    "pubmed_to_ngram()"
   ]
  },
  {
   "cell_type": "code",
   "execution_count": null,
   "metadata": {},
   "outputs": [],
   "source": []
  }
 ],
 "metadata": {
  "kernelspec": {
   "display_name": "Python 3",
   "language": "python",
   "name": "python3"
  },
  "language_info": {
   "codemirror_mode": {
    "name": "ipython",
    "version": 3
   },
   "file_extension": ".py",
   "mimetype": "text/x-python",
   "name": "python",
   "nbconvert_exporter": "python",
   "pygments_lexer": "ipython3",
   "version": "3.6.5"
  }
 },
 "nbformat": 4,
 "nbformat_minor": 2
}
