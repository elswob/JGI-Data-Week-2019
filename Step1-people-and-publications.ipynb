{
 "cells": [
  {
   "cell_type": "markdown",
   "metadata": {},
   "source": [
    "# Intro and Background\n",
    "\n",
    "In 2018 I published a tool called MELODI - http://melodi.biocompute.org.uk/, a tool which compares two sets of publications and identifies common overlapping enriched terms based around a [PubMed](https://www.ncbi.nlm.nih.gov/pubmed/) search. I realised that a search could be based on people, identifying enriched terms for a person and common shared terms across two people. At the same time the JGI launched a competition to analyse the [University of Bristol's PURE data](https://research-information.bris.ac.uk) in an interesting way, which I entered using the same ideas as MELODI. This led to the production of AXON (http://axon.biocompute.org.uk/) and an AXON instance of the University of Bristol academic research output http://axon-bristol.biocompute.org.uk/. However, maintaining this and keeping it up-to-date was not feasible, as I am currently working at the Integrative Epidemiology Unit, and this is not really epidemiology. \n",
    "\n",
    "However, I think the ideas and (some of) the code might be of interest to others.\n"
   ]
  },
  {
   "cell_type": "markdown",
   "metadata": {},
   "source": [
    "### Setup\n",
    "\n",
    "Possibly the most important aspect of the data for this project is ensuring robust and unique identifiers. For individuals this can be achieved using ORCID identifiers (https://orcid.org/) and for publications we can use PubMed identifiers (https://www.ncbi.nlm.nih.gov/pubmed/).  \n",
    "\n",
    "First create some directories for data and output"
   ]
  },
  {
   "cell_type": "code",
   "execution_count": null,
   "metadata": {},
   "outputs": [],
   "source": [
    "import os\n",
    "import config\n",
    "os.makedirs('output',exist_ok=True)\n",
    "os.makedirs('data',exist_ok=True)"
   ]
  },
  {
   "cell_type": "markdown",
   "metadata": {},
   "source": [
    "Check python executable"
   ]
  },
  {
   "cell_type": "code",
   "execution_count": null,
   "metadata": {},
   "outputs": [],
   "source": [
    "import sys\n",
    "sys.executable"
   ]
  },
  {
   "cell_type": "markdown",
   "metadata": {},
   "source": [
    "### PubMed\n",
    "\n",
    "Import the pubmed functions"
   ]
  },
  {
   "cell_type": "code",
   "execution_count": null,
   "metadata": {},
   "outputs": [],
   "source": [
    "from scripts.pubmed_functions import *"
   ]
  },
  {
   "cell_type": "markdown",
   "metadata": {},
   "source": [
    "Retrieve some data using a pubmed ID"
   ]
  },
  {
   "cell_type": "code",
   "execution_count": null,
   "metadata": {},
   "outputs": [],
   "source": [
    "pubData=get_pubmed_data_entrez(['123'])\n",
    "#print(pubData)"
   ]
  },
  {
   "cell_type": "markdown",
   "metadata": {},
   "source": [
    "Run it again, this time it will use local file"
   ]
  },
  {
   "cell_type": "code",
   "execution_count": null,
   "metadata": {},
   "outputs": [],
   "source": [
    "pubData=get_pubmed_data_entrez(['123'])"
   ]
  },
  {
   "cell_type": "markdown",
   "metadata": {},
   "source": [
    "### ORCID \n",
    "\n",
    "Let's get some info from an ORCID account"
   ]
  },
  {
   "cell_type": "code",
   "execution_count": null,
   "metadata": {},
   "outputs": [],
   "source": [
    "from scripts.common_functions import *"
   ]
  },
  {
   "cell_type": "code",
   "execution_count": null,
   "metadata": {},
   "outputs": [],
   "source": [
    "orcidData=get_ids_from_orcid_public_api('0000-0001-7328-4233')"
   ]
  },
  {
   "cell_type": "code",
   "execution_count": null,
   "metadata": {},
   "outputs": [],
   "source": [
    "print(orcidData)"
   ]
  },
  {
   "cell_type": "markdown",
   "metadata": {},
   "source": [
    "Get PubMed IDs"
   ]
  },
  {
   "cell_type": "code",
   "execution_count": null,
   "metadata": {},
   "outputs": [],
   "source": [
    "pubMedIDs = set()\n",
    "doiIDs = set()\n",
    "for i in orcidData:\n",
    "    if 'pmid' in i:\n",
    "        pubMedIDs.add(i['pmid'])\n",
    "    if 'doi' in i:\n",
    "        doiIDs.add(i['doi'])\n",
    "print(len(pubMedIDs))\n",
    "print(len(doiIDs))"
   ]
  },
  {
   "cell_type": "code",
   "execution_count": null,
   "metadata": {},
   "outputs": [],
   "source": [
    "print(len(pubMedIDs))\n",
    "pubData1=get_pubmed_data_entrez(list(pubMedIDs))\n",
    "print(len(pubData1),'publication records returned')"
   ]
  },
  {
   "cell_type": "markdown",
   "metadata": {},
   "source": [
    "We can convert DOIs to PMIDs using and ID converter API - https://www.ncbi.nlm.nih.gov/pmc/tools/id-converter-api/"
   ]
  },
  {
   "cell_type": "code",
   "execution_count": null,
   "metadata": {},
   "outputs": [],
   "source": [
    "doi_pmid=doi_to_pmid(list(doiIDs))"
   ]
  },
  {
   "cell_type": "code",
   "execution_count": null,
   "metadata": {},
   "outputs": [],
   "source": [
    "doi_pmid"
   ]
  },
  {
   "cell_type": "markdown",
   "metadata": {},
   "source": [
    "Now we can create a single list of PMIDs and get all publication data"
   ]
  },
  {
   "cell_type": "code",
   "execution_count": null,
   "metadata": {},
   "outputs": [],
   "source": [
    "allPMIDs = list(set(list(pubMedIDs)+list(doi_pmid)))"
   ]
  },
  {
   "cell_type": "code",
   "execution_count": null,
   "metadata": {},
   "outputs": [],
   "source": [
    "pubData2=get_pubmed_data_entrez(allPMIDs)\n",
    "print(len(pubData2),'publication records returned')"
   ]
  },
  {
   "cell_type": "code",
   "execution_count": null,
   "metadata": {},
   "outputs": [],
   "source": [
    "pubData=orcid_to_pubmed(['0000-0001-7328-4233','0000-0003-0924-3247'])"
   ]
  },
  {
   "cell_type": "code",
   "execution_count": null,
   "metadata": {},
   "outputs": [],
   "source": [
    "print(len(pubData))"
   ]
  },
  {
   "cell_type": "markdown",
   "metadata": {},
   "source": [
    "And do the same thing but reading from our demo data:"
   ]
  },
  {
   "cell_type": "code",
   "execution_count": null,
   "metadata": {},
   "outputs": [],
   "source": [
    "orcidData=set()\n",
    "with open(config.demo) as f:\n",
    "    for line in f:\n",
    "        person,orcid,group = line.rstrip().split('\\t')\n",
    "        orcidData.add(orcid)\n",
    "pubData=orcid_to_pubmed(list(orcidData))"
   ]
  },
  {
   "cell_type": "markdown",
   "metadata": {},
   "source": [
    "### A 'real life' data set"
   ]
  },
  {
   "cell_type": "markdown",
   "metadata": {},
   "source": [
    "As mentioned, the key is to generate a robust set of individual/group IDs to text. ORCID is one option, but ideally we would automatically extract ORCID data for a large group. \n",
    "\n",
    "The University of Bristol uses the PURE architecture for housing and distributing research material. As part of this, users can add their ORCID IDs. For example - https://research-information.bristol.ac.uk/en/persons/benjamin-l-elsworth(b4014828-88e9-4861-ae1d-5c369b6ae35a).html\n",
    "\n",
    "Extracting the ORCID ID from here is fairly simple:"
   ]
  },
  {
   "cell_type": "code",
   "execution_count": 9,
   "metadata": {},
   "outputs": [
    {
     "name": "stdout",
     "output_type": "stream",
     "text": [
      "orcid ['0000-0001-7328-4233']\n"
     ]
    }
   ],
   "source": [
    "import requests\n",
    "import re\n",
    "\n",
    "url = 'https://research-information.bristol.ac.uk/en/persons/benjamin-l-elsworth(b4014828-88e9-4861-ae1d-5c369b6ae35a).html'\n",
    "res = requests.get(url)\n",
    "orcid = re.findall('orcid.org/(.*?)\".*', res.text)\n",
    "print('orcid',orcid)\n"
   ]
  },
  {
   "cell_type": "markdown",
   "metadata": {},
   "source": [
    "Wonderful, but what is that strange ID in the URL above - **b4014828-88e9-4861-ae1d-5c369b6ae35a** ?\n",
    "\n",
    "These are actually the PURE identifiers for each person at the University. So, if we go to the persons page (https://research-information.bristol.ac.uk/en/persons/search.html) we can, in theory, get these for everyone at the University. "
   ]
  },
  {
   "cell_type": "code",
   "execution_count": 7,
   "metadata": {},
   "outputs": [
    {
     "name": "stdout",
     "output_type": "stream",
     "text": [
      "e56cc335-3cbf-4b24-aca1-21d9ead1004d Byron Adams\n",
      "4803d085-611f-4365-99cb-cbdf7ede80c0 Chris J Adams\n",
      "182d22e2-d9a2-4b95-9cf0-5ce91da1266f Josephine C Adams\n",
      "a6d8796d-4ecf-43a9-bba8-66a8595d3bc9 Jeremy Adcock\n",
      "9e4f879b-4f8f-4ae8-a5a0-f86aa750e0b4 Martin Addy\n",
      "045d849f-a6d0-4e4c-be02-517c320c9a97 Foluke I Adebisi\n",
      "834a45cf-8319-4cd0-829a-5a1c9be678cc A E Ades\n",
      "8b156807-c78e-4cd6-98fa-26e873ff4b78 Marco Adinolfi\n",
      "67d038ce-752b-44ff-99bc-bd1eac103147 Marinella Afshin\n",
      "d29e7842-e9a3-4826-bfa5-37105cef192d Maryam Afzal\n"
     ]
    }
   ],
   "source": [
    "import requests\n",
    "import re\n",
    "\n",
    "url = 'http://research-information.bristol.ac.uk/en/persons/search.html?filter=academic&page=1&pageSize=10'\n",
    "res = requests.get(url)\n",
    "pDic={}\n",
    "uuid = re.findall('persons/(.*?)\\((.*?)\\).html', res.text)\n",
    "#print(uuid)\n",
    "for u in uuid:\n",
    "    name = u[0].replace('-',' ').title()\n",
    "    uuid = u[1]\n",
    "    pDic[uuid]=name\n",
    "for p in pDic:\n",
    "    print(p,pDic[p])"
   ]
  },
  {
   "cell_type": "markdown",
   "metadata": {},
   "source": [
    "Now, this kind of scraping is not ideal, but is effective. To save time, and getting in troule with the PURE team at the University, we've extracted data for all academics `data/pure`. This includes the following:\n",
    "\n",
    " - PURE Person UUID and Person Name : (xxx)\n",
    " - PURE Person UUID and ORCID ID : (xxx)\n",
    " - PURE Person UUID and Organisation UUID (xxx)\n",
    " - PURE Organisation UUID and Organisation Name (xxx)\n",
    " \n",
    "From here we can start looking at enriched terms for each person and organisation."
   ]
  },
  {
   "cell_type": "code",
   "execution_count": null,
   "metadata": {},
   "outputs": [],
   "source": []
  }
 ],
 "metadata": {
  "kernelspec": {
   "display_name": "Python 3",
   "language": "python",
   "name": "python3"
  },
  "language_info": {
   "codemirror_mode": {
    "name": "ipython",
    "version": 3
   },
   "file_extension": ".py",
   "mimetype": "text/x-python",
   "name": "python",
   "nbconvert_exporter": "python",
   "pygments_lexer": "ipython3",
   "version": "3.6.8"
  }
 },
 "nbformat": 4,
 "nbformat_minor": 2
}
