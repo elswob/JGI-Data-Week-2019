{
 "cells": [
  {
   "cell_type": "markdown",
   "metadata": {},
   "source": [
    "# Intro and Background\n",
    "\n",
    "In 2018 I published a piece of software called MELODI - http://melodi.biocompute.org.uk/. Essentially it compares the text from two sets of publications and identifies common overlapping enriched terms based around a [PubMed](https://www.ncbi.nlm.nih.gov/pubmed/) search. I realised that a set of text could also be based on a person, making it possible to identify enriched terms for a person and common shared terms across two people. At the same time the JGI launched a competition to analyse the [University of Bristol's PURE data](https://research-information.bris.ac.uk) in a novel way, which I entered using some of the ideas from the MELODI work. This led to the production of AXON (http://axon.biocompute.org.uk/) and an AXON instance of the University of Bristol academic research output http://axon-bristol.biocompute.org.uk/. However, maintaining this and keeping it up-to-date was not feasible, as I am currently working at the Integrative Epidemiology Unit, and this is not really epidemiology. \n",
    "\n",
    "However, I think the ideas and (some of) the code might be of interest to others.\n"
   ]
  },
  {
   "cell_type": "markdown",
   "metadata": {},
   "source": [
    "### Setup\n",
    "\n",
    "Possibly the most important aspect of the data for this project is ensuring robust and unique identifiers. For individuals this can be achieved using ORCID identifiers (https://orcid.org/) and for publications we can use PubMed identifiers (https://www.ncbi.nlm.nih.gov/pubmed/).  \n",
    "\n",
    "First, let's create some directories for data and output"
   ]
  },
  {
   "cell_type": "code",
   "execution_count": 1,
   "metadata": {},
   "outputs": [],
   "source": [
    "import os\n",
    "import config\n",
    "os.makedirs('output',exist_ok=True)\n",
    "os.makedirs('data',exist_ok=True)"
   ]
  },
  {
   "cell_type": "markdown",
   "metadata": {},
   "source": [
    "Check python executable "
   ]
  },
  {
   "cell_type": "code",
   "execution_count": 2,
   "metadata": {},
   "outputs": [
    {
     "data": {
      "text/plain": [
       "'/Users/be15516/anaconda3/envs/jgi-data-week-workshop/bin/python'"
      ]
     },
     "execution_count": 2,
     "metadata": {},
     "output_type": "execute_result"
    }
   ],
   "source": [
    "import sys\n",
    "sys.executable"
   ]
  },
  {
   "cell_type": "markdown",
   "metadata": {},
   "source": [
    "Result should be something like `/xxx/xxx/anaconda3/envs/jgi-data-week-workshop/bin/python`"
   ]
  },
  {
   "cell_type": "markdown",
   "metadata": {},
   "source": [
    "### PubMed\n",
    "\n",
    "PubMed (https://www.ncbi.nlm.nih.gov/pubmed/) comprises more than 29 million citations for biomedical literature from MEDLINE, life science journals, and online books. Citations may include links to full-text content from PubMed Central and publisher web sites.\n",
    "\n",
    "We can use some simple commands to get PubMed data. First, let's import the pubmed function:"
   ]
  },
  {
   "cell_type": "code",
   "execution_count": 12,
   "metadata": {},
   "outputs": [],
   "source": [
    "from scripts.pubmed_functions import get_pubmed_data_entrez"
   ]
  },
  {
   "cell_type": "markdown",
   "metadata": {},
   "source": [
    "Using this, we can retrieve some data using a pubmed ID, e.g. 123"
   ]
  },
  {
   "cell_type": "code",
   "execution_count": 6,
   "metadata": {},
   "outputs": [
    {
     "name": "stdout",
     "output_type": "stream",
     "text": [
      "Read existing downloaded pubmed data from output/pubmed.tsv\n",
      "2\n",
      "123 is done\n",
      "Nothing to do\n"
     ]
    }
   ],
   "source": [
    "pubData=get_pubmed_data_entrez(['123'])"
   ]
  },
  {
   "cell_type": "markdown",
   "metadata": {},
   "source": [
    "This has fetched some summary data for the publication with ID 123 and added it to a the file `output/pubmed.tsv`. \n",
    "\n",
    "Run it again, this time it will use local file"
   ]
  },
  {
   "cell_type": "code",
   "execution_count": 7,
   "metadata": {},
   "outputs": [
    {
     "name": "stdout",
     "output_type": "stream",
     "text": [
      "Read existing downloaded pubmed data from output/pubmed.tsv\n",
      "151\n",
      "123 is done\n",
      "Nothing to do\n"
     ]
    }
   ],
   "source": [
    "pubData=get_pubmed_data_entrez(['123'])"
   ]
  },
  {
   "cell_type": "markdown",
   "metadata": {},
   "source": [
    "### ORCID \n",
    "\n",
    "ORCID (https://orcid.org/) provides a persistent digital identifier that distinguishes you from every other researcher and, through integration in key research workflows such as manuscript and grant submission, supports automated linkages between you and your professional activities ensuring that your work is recognized. \n",
    "\n",
    "Let's get some info from an ORCID account"
   ]
  },
  {
   "cell_type": "code",
   "execution_count": 8,
   "metadata": {},
   "outputs": [],
   "source": [
    "def get_ids_from_orcid_public_api(orcid):\n",
    "    resp = requests.get(\"http://pub.orcid.org/\"+orcid+\"/works/\", \n",
    "                        headers={'Accept':'application/orcid+json'})\n",
    "    results = resp.json()\n",
    "    pubData = []\n",
    "    if 'group' in results:\n",
    "        for i, result in enumerate( results['group']):\n",
    "            pubDic={}\n",
    "            if 'external-ids' in result:\n",
    "                for e in result['external-ids']['external-id']:\n",
    "                    if e['external-id-type']=='pmid':\n",
    "                        pmid = e['external-id-value']\n",
    "                        pubDic['pmid']=pmid\n",
    "                    elif e['external-id-type']=='doi':\n",
    "                        doi = e['external-id-value']\n",
    "                        pubDic['doi']=doi\n",
    "            if len(pubDic)>0:\n",
    "                pubData.append(pubDic)\n",
    "    else:\n",
    "        print('no data found')\n",
    "    return pubData"
   ]
  },
  {
   "cell_type": "code",
   "execution_count": 9,
   "metadata": {},
   "outputs": [],
   "source": [
    "orcidData=get_ids_from_orcid_public_api('0000-0001-7328-4233')"
   ]
  },
  {
   "cell_type": "code",
   "execution_count": 10,
   "metadata": {},
   "outputs": [
    {
     "name": "stdout",
     "output_type": "stream",
     "text": [
      "[{'doi': '10.1038/s41467-019-08923-6'}, {'doi': '10.1038/s41598-018-26050-y'}, {'doi': '10.1093/ije/dyx251', 'pmid': '29342271'}, {'doi': '10.1093/nar/gkx1072', 'pmid': '29156009'}, {'doi': '10.1093/gigascience/gix035', 'pmid': '28486658'}, {'doi': '10.1101/118513'}, {'pmid': '27863423', 'doi': '10.18632/oncotarget.13387'}, {'pmid': '27663502'}, {'pmid': '25813983', 'doi': '10.1038/ncomms7548'}, {'doi': '10.1186/s13058-015-0593-0', 'pmid': '26070602'}, {'doi': '10.1093/bioinformatics/btt466', 'pmid': '23940251'}, {'pmid': '22281184', 'doi': '10.1186/1756-0500-5-68'}, {'doi': '10.1111/j.1365-3024.2011.01342.x', 'pmid': '22044053'}, {'doi': '10.1016/j.ijpara.2011.03.009', 'pmid': '21550347'}, {'doi': '10.1126/science.1147046', 'pmid': '18174420'}, {'doi': '10.1098/rsbl.2003.0130', 'pmid': '15252980'}]\n"
     ]
    }
   ],
   "source": [
    "print(orcidData)"
   ]
  },
  {
   "cell_type": "markdown",
   "metadata": {},
   "source": [
    "From this dictionary we can easily get both PubMed IDs and DOIs"
   ]
  },
  {
   "cell_type": "code",
   "execution_count": 14,
   "metadata": {},
   "outputs": [
    {
     "name": "stdout",
     "output_type": "stream",
     "text": [
      "13 PMIDs\n",
      "15 DOIs\n"
     ]
    }
   ],
   "source": [
    "pubMedIDs = set()\n",
    "doiIDs = set()\n",
    "for i in orcidData:\n",
    "    if 'pmid' in i:\n",
    "        pubMedIDs.add(i['pmid'])\n",
    "    if 'doi' in i:\n",
    "        doiIDs.add(i['doi'])\n",
    "print(len(pubMedIDs),'PMIDs')\n",
    "print(len(doiIDs),'DOIs')"
   ]
  },
  {
   "cell_type": "markdown",
   "metadata": {},
   "source": [
    "Then using the same function as before we can get the PubMed data using the PubMed IDs:"
   ]
  },
  {
   "cell_type": "code",
   "execution_count": 15,
   "metadata": {},
   "outputs": [
    {
     "name": "stdout",
     "output_type": "stream",
     "text": [
      "Read existing downloaded pubmed data from output/pubmed.tsv\n",
      "151\n",
      "18174420 is done\n",
      "27863423 is done\n",
      "28486658 is done\n",
      "25813983 is done\n",
      "22044053 is done\n",
      "21550347 is done\n",
      "23940251 is done\n",
      "29156009 is done\n",
      "27663502 is done\n",
      "15252980 is done\n",
      "29342271 is done\n",
      "26070602 is done\n",
      "22281184 is done\n",
      "Nothing to do\n",
      "13 publication records returned\n"
     ]
    }
   ],
   "source": [
    "#get the publication data using the PMIDs\n",
    "pubData1=get_pubmed_data_entrez(list(pubMedIDs))\n",
    "print(len(pubData1),'publication records returned')"
   ]
  },
  {
   "cell_type": "markdown",
   "metadata": {},
   "source": [
    "Often, a record in an ORCID account will not contain a PubMed identifier. In this case we can convert DOIs to PMIDs using and ID converter API - https://www.ncbi.nlm.nih.gov/pmc/tools/id-converter-api/"
   ]
  },
  {
   "cell_type": "code",
   "execution_count": 17,
   "metadata": {},
   "outputs": [],
   "source": [
    "from scripts.pubmed_functions import doi_to_pmid\n",
    "doi_pmid=doi_to_pmid(list(doiIDs))"
   ]
  },
  {
   "cell_type": "code",
   "execution_count": 15,
   "metadata": {},
   "outputs": [
    {
     "data": {
      "text/plain": [
       "['26070602',\n",
       " '18174420',\n",
       " '23940251',\n",
       " '28486658',\n",
       " '22281184',\n",
       " '27863423',\n",
       " '29342271',\n",
       " '15252980',\n",
       " '29156009',\n",
       " '30837455',\n",
       " '29777112']"
      ]
     },
     "execution_count": 15,
     "metadata": {},
     "output_type": "execute_result"
    }
   ],
   "source": [
    "doi_pmid"
   ]
  },
  {
   "cell_type": "markdown",
   "metadata": {},
   "source": [
    "Now we can create a single list of PMIDs and get all publication data"
   ]
  },
  {
   "cell_type": "code",
   "execution_count": 18,
   "metadata": {},
   "outputs": [],
   "source": [
    "allPMIDs = list(set(list(pubMedIDs)+list(doi_pmid)))"
   ]
  },
  {
   "cell_type": "code",
   "execution_count": 19,
   "metadata": {},
   "outputs": [
    {
     "name": "stdout",
     "output_type": "stream",
     "text": [
      "Read existing downloaded pubmed data from output/pubmed.tsv\n",
      "151\n",
      "18174420 is done\n",
      "27863423 is done\n",
      "28486658 is done\n",
      "29777112 is done\n",
      "25813983 is done\n",
      "22044053 is done\n",
      "21550347 is done\n",
      "30837455 is done\n",
      "23940251 is done\n",
      "29156009 is done\n",
      "27663502 is done\n",
      "15252980 is done\n",
      "29342271 is done\n",
      "26070602 is done\n",
      "22281184 is done\n",
      "Nothing to do\n",
      "15 publication records returned\n"
     ]
    }
   ],
   "source": [
    "pubData2=get_pubmed_data_entrez(allPMIDs)\n",
    "print(len(pubData2),'publication records returned')"
   ]
  },
  {
   "cell_type": "markdown",
   "metadata": {},
   "source": [
    "We can wrap all this up, in a single function, to go from ORCID to PubMed data:"
   ]
  },
  {
   "cell_type": "code",
   "execution_count": 1,
   "metadata": {},
   "outputs": [
    {
     "name": "stdout",
     "output_type": "stream",
     "text": [
      "1 Getting ORCID data for 0000-0001-7328-4233\n",
      "13 PMIDs\n",
      "15 DOIs\n",
      "Read existing downloaded pubmed data from output/pubmed.tsv\n",
      "17\n",
      "18174420 is done\n",
      "27863423 is done\n",
      "28486658 is done\n",
      "29777112 is done\n",
      "25813983 is done\n",
      "22044053 is done\n",
      "21550347 is done\n",
      "30837455 is done\n",
      "23940251 is done\n",
      "29156009 is done\n",
      "27663502 is done\n",
      "15252980 is done\n",
      "29342271 is done\n",
      "26070602 is done\n",
      "22281184 is done\n",
      "Nothing to do\n",
      "2 Getting ORCID data for 0000-0003-0924-3247\n",
      "107 PMIDs\n",
      "161 DOIs\n",
      "Read existing downloaded pubmed data from output/pubmed.tsv\n",
      "17\n",
      "29342271 is done\n",
      "27663502 is done\n",
      "Processing ['28423762', '28552196', '27114411', '29462323', '27591082', '23977022', '29093763', '28137713', '21455730', '27040690', '21534939', '28002404', '28929496', '21282362', '24162466', '28458444', '25329069', '20829508', '22100073', '27000383', '23620363', '28361446', '27128313', '26781229', '27036880', '21030955', '25011450', '22253814', '29846171', '25869828', '12711693', '23001569', '15863668', '28456096', '25743335', '29848354', '27559110', '16468038', '21965548', '29687944', '26095709', '30820025', '26367797', '21689014', '28912487', '16643648', '26387087', '25634561', '28770004', '24980617', '28089957', '18714384', '25484485', '25979724', '28500271', '23505291', '29040602', '27922636', '17980034', '25991711', '27338949', '27217153', '23569189', '21300641', '25552657', '25525287', '27668658', '26758643', '17183021', '26833098', '26010633', '16325697', '28061747', '21909115', '22607059', '22433445', '20627640', '26106619', '25583119', '28550093', '27128317', '23303523', '29046734', '21194676', '28985495', '25475436', '25573147', '19913121', '23188048', '28663568', '28818596', '28246294', '19126586', '24474739', '27535767', '26861784', '24345515', '26889969', '29237687', '28241208', '25855720', '27577545', '26546615', '23063622', '23916927', '27225428', '29106580', '20948966', '25262344', '22325160', '25920552', '29365106', '23033316', '27280446', '17534663', '27555663', '30165448', '28968714', '24560520', '23139254', '28595673', '25325234', '24178511', '25224326', '17496728', '29162179', '29025028', '26368830', '28978562', '26930047', '22384920', '22977227', '30707692', '25799584', '15214960', '30220325']\n",
      "No DateCompleted\n",
      "No DateCompleted\n",
      "No DateCompleted\n",
      "No DateCompleted\n",
      "No DateCompleted\n",
      "No DateCompleted\n",
      "No Abstract\n",
      "No Abstract\n",
      "No DateCompleted\n"
     ]
    }
   ],
   "source": [
    "from scripts.common_functions import orcid_to_pubmedData\n",
    "\n",
    "pubData=orcid_to_pubmedData(['0000-0001-7328-4233','0000-0003-0924-3247'])"
   ]
  },
  {
   "cell_type": "code",
   "execution_count": 2,
   "metadata": {},
   "outputs": [
    {
     "name": "stdout",
     "output_type": "stream",
     "text": [
      "136\n"
     ]
    }
   ],
   "source": [
    "print(len(pubData))"
   ]
  },
  {
   "cell_type": "markdown",
   "metadata": {},
   "source": [
    "### A 'real life' data set"
   ]
  },
  {
   "cell_type": "markdown",
   "metadata": {},
   "source": [
    "As mentioned above, the key is to generate a robust set of individual/group IDs to text. ORCID is one option, but really we need to automatically create ORCID data for a large group. \n",
    "\n",
    "The University of Bristol uses the PURE architecture for housing and distributing research material. As part of this, users can add their ORCID IDs. For example - https://research-information.bristol.ac.uk/en/persons/benjamin-l-elsworth(b4014828-88e9-4861-ae1d-5c369b6ae35a).html\n",
    "\n",
    "Extracting the ORCID ID from here is fairly simple:"
   ]
  },
  {
   "cell_type": "code",
   "execution_count": 3,
   "metadata": {},
   "outputs": [
    {
     "name": "stdout",
     "output_type": "stream",
     "text": [
      "orcid ['0000-0001-7328-4233']\n"
     ]
    }
   ],
   "source": [
    "import requests\n",
    "import re\n",
    "\n",
    "url = 'https://research-information.bristol.ac.uk/en/persons/benjamin-l-elsworth(b4014828-88e9-4861-ae1d-5c369b6ae35a).html'\n",
    "res = requests.get(url)\n",
    "orcid = re.findall('orcid.org/(.*?)\".*', res.text)\n",
    "print('orcid',orcid)\n"
   ]
  },
  {
   "cell_type": "markdown",
   "metadata": {},
   "source": [
    "Wonderful, but what is that strange ID in the URL above - **b4014828-88e9-4861-ae1d-5c369b6ae35a** ?\n",
    "\n",
    "These are actually the PURE identifiers for each person at the University. So, if we go to the persons page (https://research-information.bristol.ac.uk/en/persons/search.html) we can, in theory, get these for everyone at the University. "
   ]
  },
  {
   "cell_type": "code",
   "execution_count": 4,
   "metadata": {},
   "outputs": [
    {
     "name": "stdout",
     "output_type": "stream",
     "text": [
      "e56cc335-3cbf-4b24-aca1-21d9ead1004d Byron Adams\n",
      "4803d085-611f-4365-99cb-cbdf7ede80c0 Chris J Adams\n",
      "182d22e2-d9a2-4b95-9cf0-5ce91da1266f Josephine C Adams\n",
      "a6d8796d-4ecf-43a9-bba8-66a8595d3bc9 Jeremy Adcock\n",
      "9e4f879b-4f8f-4ae8-a5a0-f86aa750e0b4 Martin Addy\n",
      "045d849f-a6d0-4e4c-be02-517c320c9a97 Foluke I Adebisi\n",
      "834a45cf-8319-4cd0-829a-5a1c9be678cc A E Ades\n",
      "8b156807-c78e-4cd6-98fa-26e873ff4b78 Marco Adinolfi\n",
      "67d038ce-752b-44ff-99bc-bd1eac103147 Marinella Afshin\n",
      "d29e7842-e9a3-4826-bfa5-37105cef192d Maryam Afzal\n"
     ]
    }
   ],
   "source": [
    "import requests\n",
    "import re\n",
    "\n",
    "url = 'http://research-information.bristol.ac.uk/en/persons/search.html?filter=academic&page=1&pageSize=10'\n",
    "res = requests.get(url)\n",
    "pDic={}\n",
    "uuid = re.findall('persons/(.*?)\\((.*?)\\).html', res.text)\n",
    "#print(uuid)\n",
    "for u in uuid:\n",
    "    name = u[0].replace('-',' ').title()\n",
    "    uuid = u[1]\n",
    "    pDic[uuid]=name\n",
    "for p in pDic:\n",
    "    print(p,pDic[p])"
   ]
  },
  {
   "cell_type": "markdown",
   "metadata": {},
   "source": [
    "Now, this kind of scraping is not ideal, but is effective. To save time, and getting in troule with the PURE team at the University, we've extracted data for all academics with a listed ORCID. This includes the following:\n",
    "\n",
    "| Description | File | \n",
    "| --- |---|\n",
    "| PURE Person UUID and Person Name | [data/pure_people.txt](data/pure_people.txt) | \n",
    "| PURE Person UUID and ORCID ID | [data/pure_person_to_orcid.txt](data/pure_person_to_orcid.txt) |\n",
    "| PURE Person UUID and Organisation UUID | [data/pure_person_to_org.txt](data/pure_person_to_org.txt) |\n",
    "| PURE Organisation UUID and Organisation Name | [data/pure_org_to_name.txt](data/pure_org_to_name.txt) |\n",
    " \n",
    "From here we can start looking at enriched terms for each person and organisation."
   ]
  }
 ],
 "metadata": {
  "kernelspec": {
   "display_name": "Python 3",
   "language": "python",
   "name": "python3"
  },
  "language_info": {
   "codemirror_mode": {
    "name": "ipython",
    "version": 3
   },
   "file_extension": ".py",
   "mimetype": "text/x-python",
   "name": "python",
   "nbconvert_exporter": "python",
   "pygments_lexer": "ipython3",
   "version": "3.6.8"
  }
 },
 "nbformat": 4,
 "nbformat_minor": 2
}
