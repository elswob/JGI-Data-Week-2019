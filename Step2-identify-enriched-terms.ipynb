{
 "cells": [
  {
   "cell_type": "markdown",
   "metadata": {},
   "source": [
    "# TF-IDF\n",
    "\n",
    "https://en.wikipedia.org/wiki/Tf%E2%80%93idf\n",
    "\n",
    "TFIDF (Term Frequency - Inverse Document Frequency) is a statistical method used to quantify the importance of words within a given text, compared to a background corpus.\n",
    "\n",
    "How does this work?\n",
    "\n",
    "https://triton.ml/blog/tf-idf-from-scratch"
   ]
  },
  {
   "cell_type": "markdown",
   "metadata": {},
   "source": [
    "## TF-IDF from scratch\n",
    "\n",
    "First, lets read in the complete set of publication data."
   ]
  },
  {
   "cell_type": "code",
   "execution_count": null,
   "metadata": {},
   "outputs": [],
   "source": [
    "import config\n",
    "import csv\n",
    "\n",
    "file = open(config.demoPubmed)\n",
    "reader = csv.reader(file,delimiter='\\t')\n",
    "pubData=[]\n",
    "for row in reader:\n",
    "    text=row[2]+' '+row[3]\n",
    "    pubData.append(text.lower().split())\n",
    "    \n",
    "#Removes header\n",
    "pubData = pubData[1:]\n",
    "print(len(pubData),'publications')\n"
   ]
  },
  {
   "cell_type": "markdown",
   "metadata": {},
   "source": [
    "#### Computing a TF Map\n",
    "\n",
    "**TF(term) = # of times the term appears in document / total # of terms in document** \n",
    "\n",
    "Now that our data is usable, we’d like to start computing the TF and the IDF. Computing the tf of a word in a publication requires us to calculate the number of words in a publication, and the number of times each word appears in the publication. We can store each (word, word count pair) in a dictionary. The keys of the dictionary are then just the unique terms in the publication. The following function takes in a publication and outputs a tf dictionary for that publication."
   ]
  },
  {
   "cell_type": "code",
   "execution_count": 19,
   "metadata": {},
   "outputs": [],
   "source": [
    "def computePublicationTFDict(publication):\n",
    "    \"\"\" Returns a tf dictionary for each publication whose keys are all \n",
    "    the unique words in the publication and whose values are their \n",
    "    corresponding tf.\n",
    "    \"\"\"\n",
    "    #Counts the number of times the word appears in publication\n",
    "    publicationTFDict = {}\n",
    "    for word in publication:\n",
    "        if word in publicationTFDict:\n",
    "            publicationTFDict[word] += 1\n",
    "        else:\n",
    "            publicationTFDict[word] = 1\n",
    "    #Computes tf for each word           \n",
    "    for word in publicationTFDict:\n",
    "        publicationTFDict[word] = publicationTFDict[word] / len(publication)\n",
    "    return publicationTFDict"
   ]
  },
  {
   "cell_type": "code",
   "execution_count": 21,
   "metadata": {},
   "outputs": [
    {
     "name": "stdout",
     "output_type": "stream",
     "text": [
      "{'sixty-five': 0.0041841004184100415, 'common': 0.0041841004184100415, 'genetic': 0.008368200836820083, 'variants': 0.0041841004184100415, 'and': 0.016736401673640166, 'prediction': 0.0041841004184100415, 'of': 0.029288702928870293, 'type': 0.008368200836820083, '2': 0.008368200836820083, 'diabetes.': 0.0041841004184100415, 'we': 0.008368200836820083, 'developed': 0.008368200836820083, 'a': 0.02092050209205021, '65': 0.0041841004184100415, 'diabetes': 0.0041841004184100415, '(t2d)': 0.0041841004184100415, 'variant-weighted': 0.0041841004184100415, 'gene': 0.016736401673640166, 'score': 0.02092050209205021, 'to': 0.029288702928870293, 'examine': 0.0041841004184100415, 'the': 0.06276150627615062, 'impact': 0.0041841004184100415, 'on': 0.0041841004184100415, 't2d': 0.016736401673640166, 'risk': 0.02092050209205021, 'assessment': 0.0041841004184100415, 'in': 0.012552301255230125, 'u.k.-based': 0.0041841004184100415, 'consortium': 0.0041841004184100415, 'prospective': 0.0041841004184100415, 'studies,': 0.0041841004184100415, 'with': 0.012552301255230125, 'subjects': 0.0041841004184100415, 'initially': 0.0041841004184100415, 'free': 0.0041841004184100415, 'from': 0.0041841004184100415, '(n': 0.0041841004184100415, '=': 0.02092050209205021, '13,294;': 0.0041841004184100415, '37.3%': 0.0041841004184100415, 'women;': 0.0041841004184100415, 'mean': 0.0041841004184100415, 'age': 0.008368200836820083, '58.5': 0.0041841004184100415, '[38-99]': 0.0041841004184100415, 'years).': 0.0041841004184100415, 'compared': 0.0041841004184100415, 'performance': 0.0041841004184100415, 'phenotypically': 0.0041841004184100415, 'derived': 0.0041841004184100415, 'framingham': 0.008368200836820083, 'offspring': 0.0041841004184100415, 'study': 0.0041841004184100415, 'model': 0.012552301255230125, 'then': 0.0041841004184100415, 'two': 0.0041841004184100415, 'combination.': 0.0041841004184100415, 'over': 0.0041841004184100415, 'median': 0.0041841004184100415, '10': 0.0041841004184100415, 'years': 0.0041841004184100415, 'follow-up,': 0.0041841004184100415, '804': 0.0041841004184100415, 'participants': 0.0041841004184100415, 't2d.': 0.008368200836820083, 'odds': 0.0041841004184100415, 'ratio': 0.0041841004184100415, 'for': 0.0041841004184100415, '(top': 0.0041841004184100415, 'vs.': 0.0041841004184100415, 'bottom': 0.0041841004184100415, 'quintiles': 0.0041841004184100415, 'score)': 0.0041841004184100415, 'was': 0.008368200836820083, '2.70': 0.0041841004184100415, '(95%': 0.016736401673640166, 'ci': 0.029288702928870293, '2.12-3.43).': 0.0041841004184100415, '10%': 0.0041841004184100415, 'false-positive': 0.0041841004184100415, 'rate,': 0.0041841004184100415, 'alone': 0.0041841004184100415, 'detected': 0.0041841004184100415, '19.9%': 0.0041841004184100415, 'incident': 0.008368200836820083, 'cases,': 0.0041841004184100415, '30.7%,': 0.0041841004184100415, 'together': 0.0041841004184100415, '37.3%.': 0.0041841004184100415, 'respective': 0.0041841004184100415, 'area': 0.0041841004184100415, 'under': 0.0041841004184100415, 'receiver': 0.0041841004184100415, 'operator': 0.0041841004184100415, 'characteristic': 0.0041841004184100415, 'curves': 0.0041841004184100415, 'were': 0.0041841004184100415, '0.60': 0.0041841004184100415, '0.58-0.62),': 0.0041841004184100415, '0.75': 0.008368200836820083, '0.73': 0.0041841004184100415, '0.77),': 0.0041841004184100415, '0.76': 0.0041841004184100415, '0.78).': 0.0041841004184100415, 'combined': 0.0041841004184100415, 'net': 0.0041841004184100415, 'reclassification': 0.0041841004184100415, 'improvement': 0.008368200836820083, '(nri)': 0.0041841004184100415, '8.1%': 0.0041841004184100415, '(5.0': 0.0041841004184100415, '11.2;': 0.0041841004184100415, 'p': 0.016736401673640166, '3.31': 0.0041841004184100415, '×': 0.012552301255230125, '10(-7)).': 0.0041841004184100415, 'while': 0.0041841004184100415, 'bmi': 0.0041841004184100415, 'stratification': 0.0041841004184100415, 'into': 0.0041841004184100415, 'tertiles': 0.0041841004184100415, 'influenced': 0.0041841004184100415, 'nri': 0.0041841004184100415, '(bmi': 0.0041841004184100415, '≤24.5': 0.0041841004184100415, 'kg/m(2),': 0.012552301255230125, '27.6%': 0.0041841004184100415, '[95%': 0.012552301255230125, '17.7-37.5],': 0.0041841004184100415, '4.82': 0.0041841004184100415, '10(-8);': 0.0041841004184100415, '24.5-27.5': 0.0041841004184100415, '11.6%': 0.0041841004184100415, '5.8-17.4],': 0.0041841004184100415, '9.88': 0.0041841004184100415, '10(-5);': 0.0041841004184100415, '>27.5': 0.0041841004184100415, '2.6%': 0.0041841004184100415, '-1.4': 0.0041841004184100415, '6.6],': 0.0041841004184100415, '0.20),': 0.0041841004184100415, 'categories': 0.0041841004184100415, 'did': 0.0041841004184100415, 'not.': 0.0041841004184100415, 'addition': 0.0041841004184100415, 'phenotypic': 0.0041841004184100415, 'leads': 0.0041841004184100415, 'potentially': 0.0041841004184100415, 'clinically': 0.0041841004184100415, 'important': 0.0041841004184100415, 'discrimination': 0.0041841004184100415}\n"
     ]
    }
   ],
   "source": [
    "#run for each list\n",
    "tfDict={}\n",
    "for d in range(0,len(pubData)-1):\n",
    "    tfDict[d]=computePublicationTFDict(pubData[d])\n",
    "print(tfDict[0])"
   ]
  },
  {
   "cell_type": "markdown",
   "metadata": {},
   "source": [
    "#### Computing an IDF Map\n",
    "\n",
    "**IDF(term) = log(total # of documents / # of documents with term in it)** \n",
    "\n",
    "Computing the idf of a word requires us to compute the total number of documents and the number of documents that contains the word. In our case we can calculate the total number of documents with len(data), the number of publications. For each publication, we increment the document count for each unique word. We can use the keys of the dictionaries that we calculated in the TF step to get the unique set of words. The resulting IDF dictionary’s keys will be the set of all unique words across every document."
   ]
  },
  {
   "cell_type": "code",
   "execution_count": 22,
   "metadata": {},
   "outputs": [
    {
     "data": {
      "text/plain": [
       "1001"
      ]
     },
     "execution_count": 22,
     "metadata": {},
     "output_type": "execute_result"
    }
   ],
   "source": [
    "def computeCountDict():\n",
    "    \"\"\" Returns a dictionary whose keys are all the unique words in\n",
    "    the dataset and whose values count the number of reviews in which\n",
    "    the word appears.\n",
    "    \"\"\"\n",
    "    countDict = {}\n",
    "    # Run through each publications's tf dictionary and increment countDict's (word, doc) pair\n",
    "    for review in tfDict:\n",
    "        for word in tfDict[review]:\n",
    "            if word in countDict:\n",
    "                countDict[word] += 1\n",
    "            else:\n",
    "                countDict[word] = 1\n",
    "    return countDict\n",
    "\n",
    "#Stores the review count dictionary\n",
    "countDict = computeCountDict()\n",
    "countDict[\"genetic\"]"
   ]
  },
  {
   "cell_type": "markdown",
   "metadata": {},
   "source": [
    "Finally, we can compute an idfDict, using countDict and some math, and store it."
   ]
  },
  {
   "cell_type": "code",
   "execution_count": 23,
   "metadata": {},
   "outputs": [
    {
     "name": "stdout",
     "output_type": "stream",
     "text": [
      "2.4113364566200812\n",
      "3.908445184080262\n",
      "0.059818495210910205\n"
     ]
    }
   ],
   "source": [
    "import math\n",
    "\n",
    "def computeIDFDict():\n",
    "    \"\"\" Returns a dictionary whose keys are all the unique words in the\n",
    "    dataset and whose values are their corresponding idf.\n",
    "    \"\"\"\n",
    "    idfDict = {}\n",
    "    for word in countDict:\n",
    "        idfDict[word] = math.log(len(pubData) / countDict[word])\n",
    "    return idfDict\n",
    "  \n",
    "#Stores the idf dictionary\n",
    "idfDict = computeIDFDict()\n",
    "\n",
    "print(idfDict[\"genetic\"])\n",
    "print(idfDict[\"mendelian\"])\n",
    "print(idfDict[\"the\"])"
   ]
  },
  {
   "cell_type": "markdown",
   "metadata": {},
   "source": [
    "## TF-IDF using sklearn\n",
    "\n",
    "The above has been implemented in the python package scikit-learn (sklearn) - https://scikit-learn.org/stable/modules/generated/sklearn.feature_extraction.text.TfidfVectorizer.html\n",
    "\n",
    "And can be achieved in just a few lines:"
   ]
  },
  {
   "cell_type": "code",
   "execution_count": null,
   "metadata": {},
   "outputs": [],
   "source": [
    "from sklearn.feature_extraction.text import TfidfVectorizer\n",
    "\n",
    "#first lets create some functions to help process the data\n",
    "\n",
    "#load orcid to pmid data\n",
    "def load_orcid():\n",
    "    print('load_orcid')\n",
    "    orcidToPubmedID={}\n",
    "    with open(config.orcidFile) as f:\n",
    "        next(f)\n",
    "        for line in f:\n",
    "            orcid,pmid = line.rstrip().split('\\t')\n",
    "            if orcid in orcidToPubmedID:\n",
    "                orcidToPubmedID[orcid].append(pmid)\n",
    "            else:\n",
    "                orcidToPubmedID[orcid]=[pmid]\n",
    "    return orcidToPubmedID\n",
    "\n",
    "#load the publication data\n",
    "def load_pubmed():\n",
    "    print('load_pubmed')\n",
    "    pubmedText={}\n",
    "    with open(config.pubmedFile, newline='') as csvfile:\n",
    "        reader = csv.reader(csvfile, delimiter='\\t')\n",
    "        next(reader, None)\n",
    "        for row in reader:\n",
    "            text=row[2]+' '+row[3]\n",
    "            pubmedText[row[0]]=text\n",
    "    return pubmedText\n",
    "\n",
    "#create dictionary of orcid to publication text\n",
    "def orcid_to_pubmed():\n",
    "    print('orcid_to_pubmed')\n",
    "    orcidToPubmedID=load_orcid()\n",
    "    pubmedText = load_pubmed()\n",
    "    orcidToPubmed={}\n",
    "    for orcid in orcidToPubmedID:\n",
    "        oText=''\n",
    "        for p in orcidToPubmedID[orcid]:\n",
    "            if p in pubmedText:\n",
    "                oText+=(pubmedText[p])\n",
    "        orcidToPubmed[orcid]=oText\n",
    "    return orcidToPubmed\n",
    "\n",
    "print('Reading corpus')\n",
    "token_dict = {}\n",
    "orcidToPubmed = orcid_to_pubmed()\n",
    "for orcid in orcidToPubmed:\n",
    "    token_dict[orcid] = orcidToPubmed[orcid].lower()\n",
    "\n",
    "#sklean tokeniser, including bigrams and trigrams\n",
    "tfidf = TfidfVectorizer(stop_words='english',ngram_range=(1,3))\n",
    "\n",
    "#fit_transform creates the tf-idf model and returns term-document frequency matrix\n",
    "%time tfs = tfidf.fit_transform(token_dict.values())\n",
    "\n",
    "#get similarity matrix for all people\n",
    "#https://stackoverflow.com/questions/8897593/how-to-compute-the-similarity-between-two-text-documents\n",
    "matrix=(tfs * tfs.T).A\n",
    "#store this and the dictionary for access in other notebooks\n",
    "%store matrix\n",
    "%store token_dict\n",
    "%store tfs\n",
    "%store tfidf\n",
    "\n",
    "print('Done')"
   ]
  },
  {
   "cell_type": "markdown",
   "metadata": {},
   "source": [
    "And to test some words:"
   ]
  },
  {
   "cell_type": "code",
   "execution_count": null,
   "metadata": {},
   "outputs": [],
   "source": [
    "def tfidf_doc(tfidf='',text=''):\n",
    "    text=text.lower()\n",
    "    #transform function transforms a document to document-term matrix\n",
    "    response = tfidf.transform([text])\n",
    "\n",
    "    feature_names = tfidf.get_feature_names()\n",
    "    res={}\n",
    "    for col in response.nonzero()[1]:\n",
    "        res[feature_names[col]]=response[0, col]\n",
    "        #reverse sort the results\n",
    "        sorted_res = sorted(res.items(), key=lambda kv: kv[1], reverse=True)\n",
    "    return sorted_res\n",
    "\n",
    "sorted_res=tfidf_doc(tfidf=tfidf,text='genetic mendelian the')\n",
    "for s in sorted_res:\n",
    "        print(s)\n"
   ]
  },
  {
   "cell_type": "markdown",
   "metadata": {},
   "source": [
    "## TF-IDF on our data\n",
    "\n",
    "We can now identify the key words in each person's publications, by creating a single document of all texts and comapring to the background frequencies. \n",
    "\n",
    "For example:"
   ]
  },
  {
   "cell_type": "code",
   "execution_count": null,
   "metadata": {},
   "outputs": [],
   "source": [
    "orcidToPubmedID=load_orcid()\n",
    "pubmedText = load_pubmed()\n",
    "#get all publications for a specific ORCID\n",
    "orcidID='0000-0001-7328-4233'\n",
    "oText=''\n",
    "for p in orcidToPubmedID[orcidID]:\n",
    "    if p in pubmedText:\n",
    "        oText+=(pubmedText[p])\n",
    "res = tfidf_doc(tfidf=tfidf,text=oText)\n",
    "for r in res[0:10]:\n",
    "    print(r)\n"
   ]
  },
  {
   "cell_type": "markdown",
   "metadata": {},
   "source": [
    "We can now easily do this for all ORCID"
   ]
  },
  {
   "cell_type": "code",
   "execution_count": null,
   "metadata": {},
   "outputs": [],
   "source": [
    "o=open('output/orcid-tf-idf.txt','w')\n",
    "counter=0\n",
    "\n",
    "orcidToPubmedID=load_orcid()\n",
    "pubmedText = load_pubmed()\n",
    "for orcid in orcidToPubmed:\n",
    "    #don't really want to do this for all, so just orcid with < 100 publications!\n",
    "    if len(orcidToPubmedID[orcid])<100:\n",
    "        counter+=1\n",
    "        if counter<=5:\n",
    "            print(counter,orcid)\n",
    "            oText=''\n",
    "            for p in orcidToPubmedID[orcid]:\n",
    "                if p in pubmedText:\n",
    "                    oText+=(pubmedText[p])\n",
    "            print(len(oText))\n",
    "            %time res = tfidf_doc(tfidf=tfidf,text=oText)\n",
    "            for r in res[0:100]:\n",
    "                o.write(orcid+'\\t'+r[0]+'\\t'+str(r[1])+'\\n')\n",
    "o.close()"
   ]
  }
 ],
 "metadata": {
  "kernelspec": {
   "display_name": "Python 3",
   "language": "python",
   "name": "python3"
  },
  "language_info": {
   "codemirror_mode": {
    "name": "ipython",
    "version": 3
   },
   "file_extension": ".py",
   "mimetype": "text/x-python",
   "name": "python",
   "nbconvert_exporter": "python",
   "pygments_lexer": "ipython3",
   "version": "3.6.8"
  }
 },
 "nbformat": 4,
 "nbformat_minor": 2
}
